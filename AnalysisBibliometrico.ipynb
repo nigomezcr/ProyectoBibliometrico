{
 "cells": [
  {
   "cell_type": "markdown",
   "metadata": {},
   "source": [
    "# Proyecto Bibliométrico\n",
    "\n",
    "A continuación se importan los paquetes requeridos y la muestra bibliométrica de 100 artículos. Guaramos estos datos en un datafram de pandas llamado _muestra_."
   ]
  },
  {
   "cell_type": "code",
   "execution_count": 74,
   "metadata": {},
   "outputs": [],
   "source": [
    "import pandas as pd\n",
    "import numpy as np\n",
    "import seaborn as sns\n",
    "import matplotlib.pyplot as plt\n",
    "\n",
    "\n",
    "muestra = pd.read_csv(\"Muestra.csv\")"
   ]
  },
  {
   "cell_type": "markdown",
   "metadata": {},
   "source": [
    "Las primeras entradas y las columnas del datafram se muestran a continuación"
   ]
  },
  {
   "cell_type": "code",
   "execution_count": 75,
   "metadata": {},
   "outputs": [
    {
     "data": {
      "text/html": [
       "<div>\n",
       "<style scoped>\n",
       "    .dataframe tbody tr th:only-of-type {\n",
       "        vertical-align: middle;\n",
       "    }\n",
       "\n",
       "    .dataframe tbody tr th {\n",
       "        vertical-align: top;\n",
       "    }\n",
       "\n",
       "    .dataframe thead th {\n",
       "        text-align: right;\n",
       "    }\n",
       "</style>\n",
       "<table border=\"1\" class=\"dataframe\">\n",
       "  <thead>\n",
       "    <tr style=\"text-align: right;\">\n",
       "      <th></th>\n",
       "      <th>Authors</th>\n",
       "      <th>Author full names</th>\n",
       "      <th>Author(s) ID</th>\n",
       "      <th>Title</th>\n",
       "      <th>Year</th>\n",
       "      <th>Cited by</th>\n",
       "      <th>DOI</th>\n",
       "      <th>Link</th>\n",
       "      <th>EID</th>\n",
       "    </tr>\n",
       "  </thead>\n",
       "  <tbody>\n",
       "    <tr>\n",
       "      <th>0</th>\n",
       "      <td>Croton D.J.; Springel V.; White S.D.M.; De Luc...</td>\n",
       "      <td>Croton, Darren J. (6506894822); Springel, Volk...</td>\n",
       "      <td>6506894822; 7003307156; 16199171600; 660252153...</td>\n",
       "      <td>The many lives of active galactic nuclei: Cool...</td>\n",
       "      <td>2006</td>\n",
       "      <td>2929</td>\n",
       "      <td>10.1111/j.1365-2966.2005.09675.x</td>\n",
       "      <td>https://www.scopus.com/inward/record.uri?eid=2...</td>\n",
       "      <td>2-s2.0-33644761468</td>\n",
       "    </tr>\n",
       "    <tr>\n",
       "      <th>1</th>\n",
       "      <td>Georgescu I.M.; Ashhab S.; Nori F.</td>\n",
       "      <td>Georgescu, I.M. (57523273800); Ashhab, S. (140...</td>\n",
       "      <td>57523273800; 14017601400; 7005721141</td>\n",
       "      <td>Quantum simulation</td>\n",
       "      <td>2014</td>\n",
       "      <td>1631</td>\n",
       "      <td>10.1103/RevModPhys.86.153</td>\n",
       "      <td>https://www.scopus.com/inward/record.uri?eid=2...</td>\n",
       "      <td>2-s2.0-84897095980</td>\n",
       "    </tr>\n",
       "    <tr>\n",
       "      <th>2</th>\n",
       "      <td>Barthelmy S.D.; Barbier L.M.; Cummings J.R.; F...</td>\n",
       "      <td>Barthelmy, Scott D. (7004253793); Barbier, Lou...</td>\n",
       "      <td>7004253793; 7004787437; 7402590967; 7005253057...</td>\n",
       "      <td>The burst alert telescope (BAT) on the SWIFT m...</td>\n",
       "      <td>2005</td>\n",
       "      <td>1402</td>\n",
       "      <td>10.1007/s11214-005-5096-3</td>\n",
       "      <td>https://www.scopus.com/inward/record.uri?eid=2...</td>\n",
       "      <td>2-s2.0-29344432604</td>\n",
       "    </tr>\n",
       "    <tr>\n",
       "      <th>3</th>\n",
       "      <td>Preskill J.; Wise M.B.; Wilczek F.</td>\n",
       "      <td>Preskill, John (6701594380); Wise, Mark B. (72...</td>\n",
       "      <td>6701594380; 7202820840; 7004411418</td>\n",
       "      <td>Cosmology of the invisible axion</td>\n",
       "      <td>1983</td>\n",
       "      <td>2082</td>\n",
       "      <td>10.1016/0370-2693(83)90637-8</td>\n",
       "      <td>https://www.scopus.com/inward/record.uri?eid=2...</td>\n",
       "      <td>2-s2.0-0008416057</td>\n",
       "    </tr>\n",
       "    <tr>\n",
       "      <th>4</th>\n",
       "      <td>Elbaz D.; Daddi E.; Le Borgne D.; Dickinson M....</td>\n",
       "      <td>Elbaz, D. (7004027767); Daddi, E. (6603916088)...</td>\n",
       "      <td>7004027767; 6603916088; 6602776924; 3541910260...</td>\n",
       "      <td>The reversal of the star formation-density rel...</td>\n",
       "      <td>2007</td>\n",
       "      <td>1244</td>\n",
       "      <td>10.1051/0004-6361:20077525</td>\n",
       "      <td>https://www.scopus.com/inward/record.uri?eid=2...</td>\n",
       "      <td>2-s2.0-34250211491</td>\n",
       "    </tr>\n",
       "  </tbody>\n",
       "</table>\n",
       "</div>"
      ],
      "text/plain": [
       "                                             Authors  \\\n",
       "0  Croton D.J.; Springel V.; White S.D.M.; De Luc...   \n",
       "1                 Georgescu I.M.; Ashhab S.; Nori F.   \n",
       "2  Barthelmy S.D.; Barbier L.M.; Cummings J.R.; F...   \n",
       "3                 Preskill J.; Wise M.B.; Wilczek F.   \n",
       "4  Elbaz D.; Daddi E.; Le Borgne D.; Dickinson M....   \n",
       "\n",
       "                                   Author full names  \\\n",
       "0  Croton, Darren J. (6506894822); Springel, Volk...   \n",
       "1  Georgescu, I.M. (57523273800); Ashhab, S. (140...   \n",
       "2  Barthelmy, Scott D. (7004253793); Barbier, Lou...   \n",
       "3  Preskill, John (6701594380); Wise, Mark B. (72...   \n",
       "4  Elbaz, D. (7004027767); Daddi, E. (6603916088)...   \n",
       "\n",
       "                                        Author(s) ID  \\\n",
       "0  6506894822; 7003307156; 16199171600; 660252153...   \n",
       "1               57523273800; 14017601400; 7005721141   \n",
       "2  7004253793; 7004787437; 7402590967; 7005253057...   \n",
       "3                 6701594380; 7202820840; 7004411418   \n",
       "4  7004027767; 6603916088; 6602776924; 3541910260...   \n",
       "\n",
       "                                               Title  Year  Cited by  \\\n",
       "0  The many lives of active galactic nuclei: Cool...  2006      2929   \n",
       "1                                 Quantum simulation  2014      1631   \n",
       "2  The burst alert telescope (BAT) on the SWIFT m...  2005      1402   \n",
       "3                   Cosmology of the invisible axion  1983      2082   \n",
       "4  The reversal of the star formation-density rel...  2007      1244   \n",
       "\n",
       "                                DOI  \\\n",
       "0  10.1111/j.1365-2966.2005.09675.x   \n",
       "1         10.1103/RevModPhys.86.153   \n",
       "2         10.1007/s11214-005-5096-3   \n",
       "3      10.1016/0370-2693(83)90637-8   \n",
       "4        10.1051/0004-6361:20077525   \n",
       "\n",
       "                                                Link                 EID  \n",
       "0  https://www.scopus.com/inward/record.uri?eid=2...  2-s2.0-33644761468  \n",
       "1  https://www.scopus.com/inward/record.uri?eid=2...  2-s2.0-84897095980  \n",
       "2  https://www.scopus.com/inward/record.uri?eid=2...  2-s2.0-29344432604  \n",
       "3  https://www.scopus.com/inward/record.uri?eid=2...   2-s2.0-0008416057  \n",
       "4  https://www.scopus.com/inward/record.uri?eid=2...  2-s2.0-34250211491  "
      ]
     },
     "execution_count": 75,
     "metadata": {},
     "output_type": "execute_result"
    }
   ],
   "source": [
    "muestra.head()"
   ]
  },
  {
   "cell_type": "code",
   "execution_count": 7,
   "metadata": {},
   "outputs": [
    {
     "data": {
      "text/plain": [
       "Index(['Authors', 'Author full names', 'Author(s) ID', 'Title', 'Year',\n",
       "       'Cited by', 'DOI', 'Link', 'EID'],\n",
       "      dtype='object')"
      ]
     },
     "execution_count": 7,
     "metadata": {},
     "output_type": "execute_result"
    }
   ],
   "source": [
    "muestra.columns"
   ]
  },
  {
   "cell_type": "markdown",
   "metadata": {},
   "source": [
    "## Análisis\n",
    "\n",
    "Con la muestra de 100 artículos, lo primero que hacmeos es estudiar el número de autores en cada paper y los ordenaremos por año. De este modo, debemos encontrar el número de autores en cada entrada, para ello usamos lo siguiente:"
   ]
  },
  {
   "cell_type": "code",
   "execution_count": 8,
   "metadata": {},
   "outputs": [
    {
     "data": {
      "text/plain": [
       "3"
      ]
     },
     "execution_count": 8,
     "metadata": {},
     "output_type": "execute_result"
    }
   ],
   "source": [
    "len(muestra.loc[1,'Author(s) ID'].split() )"
   ]
  },
  {
   "cell_type": "markdown",
   "metadata": {},
   "source": [
    "Veamos que esto de hecho nos da el número de autores:"
   ]
  },
  {
   "cell_type": "code",
   "execution_count": 9,
   "metadata": {},
   "outputs": [
    {
     "data": {
      "text/plain": [
       "'Georgescu I.M.; Ashhab S.; Nori F.'"
      ]
     },
     "execution_count": 9,
     "metadata": {},
     "output_type": "execute_result"
    }
   ],
   "source": [
    "muestra.loc[1,'Authors']"
   ]
  },
  {
   "cell_type": "markdown",
   "metadata": {},
   "source": [
    "Ahora, hagamos lo mismo con todas las entradas y creemos una nueva columna que asigne estos valoes a cada entrada:"
   ]
  },
  {
   "cell_type": "code",
   "execution_count": 76,
   "metadata": {},
   "outputs": [
    {
     "data": {
      "text/plain": [
       "0     10.0\n",
       "1      3.0\n",
       "2     15.0\n",
       "3      3.0\n",
       "4     14.0\n",
       "      ... \n",
       "95    73.0\n",
       "96     4.0\n",
       "97    15.0\n",
       "98     4.0\n",
       "99     2.0\n",
       "Name: Number of Authors, Length: 100, dtype: float64"
      ]
     },
     "execution_count": 76,
     "metadata": {},
     "output_type": "execute_result"
    }
   ],
   "source": [
    "NumAuthors = np.zeros(len(muestra))\n",
    "\n",
    "for i in range(len(muestra)):\n",
    "    NumAuthors[i] = len(muestra.loc[i,'Author(s) ID'].split() ) \n",
    "muestra['Number of Authors'] = NumAuthors\n",
    "\n",
    "muestra['Number of Authors']"
   ]
  },
  {
   "cell_type": "markdown",
   "metadata": {},
   "source": [
    "Algunas estadísticas breves que podemos visualizar numéricamente"
   ]
  },
  {
   "cell_type": "code",
   "execution_count": 11,
   "metadata": {},
   "outputs": [
    {
     "data": {
      "text/plain": [
       "count     100.000000\n",
       "mean       39.970000\n",
       "std       125.754648\n",
       "min         1.000000\n",
       "25%         3.000000\n",
       "50%         8.000000\n",
       "75%        22.000000\n",
       "max      1124.000000\n",
       "Name: Number of Authors, dtype: float64"
      ]
     },
     "execution_count": 11,
     "metadata": {},
     "output_type": "execute_result"
    }
   ],
   "source": [
    "muestra['Number of Authors'].describe()"
   ]
  },
  {
   "cell_type": "code",
   "execution_count": 12,
   "metadata": {},
   "outputs": [
    {
     "data": {
      "text/plain": [
       "2.0       12\n",
       "3.0       11\n",
       "1.0        9\n",
       "4.0        7\n",
       "21.0       6\n",
       "6.0        5\n",
       "15.0       4\n",
       "22.0       4\n",
       "8.0        4\n",
       "7.0        4\n",
       "19.0       3\n",
       "48.0       2\n",
       "9.0        2\n",
       "10.0       2\n",
       "24.0       2\n",
       "28.0       2\n",
       "124.0      1\n",
       "64.0       1\n",
       "70.0       1\n",
       "65.0       1\n",
       "63.0       1\n",
       "1124.0     1\n",
       "5.0        1\n",
       "45.0       1\n",
       "14.0       1\n",
       "40.0       1\n",
       "400.0      1\n",
       "181.0      1\n",
       "20.0       1\n",
       "32.0       1\n",
       "264.0      1\n",
       "261.0      1\n",
       "29.0       1\n",
       "17.0       1\n",
       "246.0      1\n",
       "107.0      1\n",
       "73.0       1\n",
       "Name: Number of Authors, dtype: int64"
      ]
     },
     "execution_count": 12,
     "metadata": {},
     "output_type": "execute_result"
    }
   ],
   "source": [
    "muestra['Number of Authors'].value_counts()"
   ]
  },
  {
   "cell_type": "code",
   "execution_count": 77,
   "metadata": {},
   "outputs": [],
   "source": [
    "muestra['Number of Authors'] = muestra['Number of Authors'].replace(np.arange(21, 1125, 1), 20)"
   ]
  },
  {
   "cell_type": "markdown",
   "metadata": {},
   "source": [
    "O gráficamente"
   ]
  },
  {
   "cell_type": "code",
   "execution_count": 78,
   "metadata": {},
   "outputs": [
    {
     "data": {
      "image/png": "[encoded data removed]",
      "text/plain": [
       "<Figure size 640x480 with 1 Axes>"
      ]
     },
     "metadata": {},
     "output_type": "display_data"
    }
   ],
   "source": [
    "sns.histplot(data=muestra['Number of Authors'], bins=10)\n",
    "\n",
    "plt.show()"
   ]
  },
  {
   "cell_type": "markdown",
   "metadata": {},
   "source": [
    "Y ahora, finalmente, hagamos un scatter plot del número de autore y el año, para ver cuántos autores máximo se van obteniendo por año"
   ]
  },
  {
   "cell_type": "code",
   "execution_count": 14,
   "metadata": {},
   "outputs": [
    {
     "data": {
      "image/png": "[encoded data removed]",
      "text/plain": [
       "<Figure size 640x480 with 4 Axes>"
      ]
     },
     "metadata": {},
     "output_type": "display_data"
    }
   ],
   "source": [
    "plt.subplot(2, 2, 1)\n",
    "\n",
    "sns.scatterplot(y=muestra['Number of Authors'], x=muestra['Year'])\n",
    "plt.title('Total')\n",
    "\n",
    "\n",
    "plt.subplot(2, 2, 2)\n",
    "\n",
    "sns.scatterplot(y=muestra['Number of Authors'], x=muestra['Year'])\n",
    "plt.title('Top: 400')\n",
    "plt.ylim(bottom=0, top=400)\n",
    "\n",
    "plt.subplot(2, 2, 3)\n",
    "\n",
    "sns.scatterplot(y=muestra['Number of Authors'], x=muestra['Year'])\n",
    "plt.title('Top: 100')\n",
    "plt.ylim(bottom=0, top=100)\n",
    "\n",
    "plt.subplot(2, 2, 4)\n",
    "\n",
    "sns.scatterplot(y=muestra['Number of Authors'], x=muestra['Year'])\n",
    "plt.title('Top: 50')\n",
    "plt.ylim(bottom=0, top=50)\n",
    "\n",
    "\n",
    "plt.tight_layout()\n",
    "plt.show()\n"
   ]
  },
  {
   "cell_type": "markdown",
   "metadata": {},
   "source": [
    "Ya con este plot, se puede ver a diferentes escalas que el número de autores tiende a aumentar a lo largo del tiempo, en el período 1980-2020.\n",
    "\n",
    "Ahora, quisieramos ver el número de artículos de solamente 1 autor, en el mismo período de tiempo."
   ]
  },
  {
   "cell_type": "code",
   "execution_count": 30,
   "metadata": {},
   "outputs": [
    {
     "data": {
      "text/plain": [
       "False    91\n",
       "True      9\n",
       "Name: One Author, dtype: int64"
      ]
     },
     "execution_count": 30,
     "metadata": {},
     "output_type": "execute_result"
    }
   ],
   "source": [
    "muestra['One Author'] = (muestra['Number of Authors'] == 1)\n",
    "muestra['One Author'].value_counts()"
   ]
  },
  {
   "cell_type": "code",
   "execution_count": 34,
   "metadata": {},
   "outputs": [
    {
     "data": {
      "text/plain": [
       "Year  One Author\n",
       "1996  False         7\n",
       "2001  False         6\n",
       "2014  False         6\n",
       "1998  False         5\n",
       "2006  False         5\n",
       "2004  False         5\n",
       "2003  False         5\n",
       "2008  False         5\n",
       "2007  False         5\n",
       "2011  False         4\n",
       "1999  False         4\n",
       "2010  False         4\n",
       "2009  False         4\n",
       "2005  False         4\n",
       "1997  False         3\n",
       "2000  False         3\n",
       "2016  False         3\n",
       "2013  False         2\n",
       "2015  False         2\n",
       "2017  False         2\n",
       "2002  True          2\n",
       "2010  True          1\n",
       "2018  False         1\n",
       "1981  True          1\n",
       "1982  False         1\n",
       "1999  True          1\n",
       "1998  True          1\n",
       "1995  False         1\n",
       "1992  False         1\n",
       "1991  False         1\n",
       "1988  True          1\n",
       "1983  True          1\n",
       "      False         1\n",
       "1982  True          1\n",
       "2020  False         1\n",
       "dtype: int64"
      ]
     },
     "execution_count": 34,
     "metadata": {},
     "output_type": "execute_result"
    }
   ],
   "source": [
    "muestra.loc[:,['Year', 'One Author']].value_counts()"
   ]
  },
  {
   "cell_type": "code",
   "execution_count": 38,
   "metadata": {},
   "outputs": [],
   "source": [
    "SingleAuthorYears = muestra.loc[muestra['One Author'], 'Year']"
   ]
  },
  {
   "cell_type": "code",
   "execution_count": 40,
   "metadata": {},
   "outputs": [
    {
     "data": {
      "image/png": "[encoded data removed]",
      "text/plain": [
       "<Figure size 640x480 with 1 Axes>"
      ]
     },
     "metadata": {},
     "output_type": "display_data"
    }
   ],
   "source": [
    "sns.histplot(data = SingleAuthorYears, bins=10)\n",
    "plt.show()"
   ]
  },
  {
   "cell_type": "markdown",
   "metadata": {},
   "source": [
    "Ahora tomemos algunos Boxplots para hacer estadísticas globales."
   ]
  },
  {
   "cell_type": "code",
   "execution_count": 80,
   "metadata": {},
   "outputs": [
    {
     "data": {
      "image/png": "[encoded data removed]",
      "text/plain": [
       "<Figure size 1200x600 with 1 Axes>"
      ]
     },
     "metadata": {},
     "output_type": "display_data"
    }
   ],
   "source": [
    "muestra[\"YrGroup\"] = pd.cut(muestra['Year'], [1980, 1990, 2000, 2010, 2020])\n",
    "plt.figure(figsize=(12, 6)) \n",
    "sns.boxplot(x=\"YrGroup\", y=\"Number of Authors\", data=muestra)\n",
    "#plt.ylim([0,400])\n",
    "plt.show()\n"
   ]
  },
  {
   "cell_type": "markdown",
   "metadata": {},
   "source": [
    "### Citations"
   ]
  },
  {
   "cell_type": "code",
   "execution_count": 83,
   "metadata": {},
   "outputs": [
    {
     "data": {
      "text/plain": [
       "0      True\n",
       "1     False\n",
       "2     False\n",
       "3     False\n",
       "4     False\n",
       "      ...  \n",
       "95    False\n",
       "96    False\n",
       "97    False\n",
       "98    False\n",
       "99    False\n",
       "Name: Year, Length: 100, dtype: bool"
      ]
     },
     "execution_count": 83,
     "metadata": {},
     "output_type": "execute_result"
    }
   ],
   "source": [
    "muestra['Year']==2006\n",
    "\n"
   ]
  },
  {
   "cell_type": "code",
   "execution_count": null,
   "metadata": {},
   "outputs": [],
   "source": []
  }
 ],
 "metadata": {
  "kernelspec": {
   "display_name": "base",
   "language": "python",
   "name": "python3"
  },
  "language_info": {
   "codemirror_mode": {
    "name": "ipython",
    "version": 3
   },
   "file_extension": ".py",
   "mimetype": "text/x-python",
   "name": "python",
   "nbconvert_exporter": "python",
   "pygments_lexer": "ipython3",
   "version": "3.10.9"
  },
  "orig_nbformat": 4
 },
 "nbformat": 4,
 "nbformat_minor": 2
}
